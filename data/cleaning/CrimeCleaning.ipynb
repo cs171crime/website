{
 "cells": [
  {
   "cell_type": "code",
   "execution_count": 215,
   "metadata": {},
   "outputs": [],
   "source": [
    "import pandas as pd\n",
    "import matplotlib.pyplot as plt\n",
    "import seaborn as sns\n",
    "import numpy as np\n",
    "import warnings\n",
    "warnings.filterwarnings('ignore')\n",
    "df15 = pd.read_csv('/Users/kimia/Downloads/crime.csv', encoding = \"ISO-8859-1\")"
   ]
  },
  {
   "cell_type": "code",
   "execution_count": 216,
   "metadata": {},
   "outputs": [
    {
     "name": "stdout",
     "output_type": "stream",
     "text": [
      "/Users/kimia\n"
     ]
    }
   ],
   "source": [
    "%%bash\n",
    "pwd"
   ]
  },
  {
   "cell_type": "code",
   "execution_count": 217,
   "metadata": {},
   "outputs": [],
   "source": [
    "pd.set_option('display.max_rows', 500)\n",
    "pd.set_option('display.max_columns', 500)\n",
    "pd.set_option('display.width', 1000)"
   ]
  },
  {
   "cell_type": "code",
   "execution_count": 218,
   "metadata": {},
   "outputs": [],
   "source": [
    "## year.month \n",
    "df15['new_date'] = df15[('MONTH')]\n",
    "df15['new_date'] = df15['new_date'].apply(lambda x: '0'+str(x)  if x<10 else x) ## so that Nov (.11) is not < .9 (Sept)\n",
    "df15['new_date'] = df15['new_date'].apply(lambda x: str(x))\n",
    "df15['year'] = df15['YEAR'].apply(lambda x: str(x))\n",
    "df15['date'] = df15['year'] + '.'+ df15['new_date']\n",
    "df15['first_or_second_half_of_year'] =  df15['MONTH'].apply(lambda x: 1  if x<7 else 2)\n",
    "df15['first_or_second_half_of_year'] = df15['first_or_second_half_of_year'].apply(lambda x: str(x))\n",
    "df15['first_or_second_half_of_year'] = df15['year'] + '.'+df15['first_or_second_half_of_year']"
   ]
  },
  {
   "cell_type": "code",
   "execution_count": 219,
   "metadata": {},
   "outputs": [],
   "source": [
    "## make a Heroin DF\n",
    "\n",
    "## 1830, 3021 = Sick Assist heroin, 1842 == DRUGS - POSS CLASS A - HEROIN, ETC. - 1843: DRUGS - PRESENT AT HEROIN \n",
    "heroinDF = df15[(df15.OFFENSE_CODE == 1842 ) | (df15.OFFENSE_CODE == 1830 ) | \n",
    "     (df15.OFFENSE_CODE == 1843 )  ]\n",
    "\n",
    "heroinDF['crime'] = \"Heroin\"\n",
    "### 1840 -- DRUGS - TRAFFICKING IN HEROIN 3021 = Sick Assist heroin, DID NOT HAVE ANY VALUES\n",
    "\n",
    "\n",
    "##### make CSVs\n",
    "\n",
    "#year\n",
    "CSVofHeroinByYear = heroinDF.groupby('YEAR').count()['MONTH'].to_frame().reset_index().rename(index=str, columns={\"MONTH\": 'HeroinCrimes'})\n",
    "CSVofHeroinByYear.to_csv( '~/Downloads/crime/CSVofHeroinByYear.csv')\n",
    "\n",
    "#half year\n",
    "CSVofHeroinByHalfYear = heroinDF.groupby('first_or_second_half_of_year').count()['YEAR'].to_frame().reset_index().rename(index=str, columns={\"YEAR\": 'HeroinCrimes'})\n",
    "CSVofHeroinByHalfYear.to_csv( '~/Downloads/crime/CSVofHeroinByHalfYear.csv')\n",
    "\n",
    "#month & Year\n",
    "CSVofHeroinByyearandmonth = heroinDF.groupby('date').count()['YEAR'].to_frame().reset_index().rename(index=str, columns={\"YEAR\": 'HeroinCrimes', 'date': 'datebymonth'})\n",
    "CSVofHeroinByyearandmonth.to_csv( '~/Downloads/crime/CSVofHeroinByyearandmonth.csv')\n",
    "\n",
    "#just month no year\n",
    "CSVofHeroinBymonth = heroinDF.groupby('MONTH').count()['YEAR'].to_frame().reset_index().rename(index=str, columns={\"YEAR\": 'HeroinCrimes', 'MONTH': 'month'})\n",
    "CSVofHeroinBymonth.to_csv( '~/Downloads/crime/CSVofHeroinBymonth.csv')\n",
    "\n",
    "#HOUR\n",
    "CSVofHeroinByhour = heroinDF.groupby('HOUR').count()['YEAR'].to_frame().reset_index().rename(index=str, columns={\"YEAR\": 'HeroinCrimes', 'HOUR': 'hourofday'})\n",
    "CSVofHeroinByhour.to_csv( '~/Downloads/crime/CSVofHeroinByhour.csv')\n",
    "\n",
    "#day_of_week\n",
    "CSVofHeroinDAY_OF_WEEK = heroinDF.groupby('DAY_OF_WEEK').count()['YEAR'].to_frame().reset_index().rename(index=str, columns={\"YEAR\": 'HeroinCrimes', 'DAY_OF_WEEK': 'DAY_OF_WEEK'})\n",
    "CSVofHeroinDAY_OF_WEEK.to_csv( '~/Downloads/crime/CSVofHeroinDAY_OF_WEEK.csv')\n",
    "\n",
    "## all \n",
    "heroinDF.to_csv( '~/Downloads/crime/Entire_CSV_of_Heroin_for_map.csv')\n"
   ]
  },
  {
   "cell_type": "code",
   "execution_count": 220,
   "metadata": {},
   "outputs": [],
   "source": [
    "## Needles\n",
    "needledf = pd.read_csv('/Users/kimia/Downloads/311.csv', encoding = \"ISO-8859-1\")\n",
    "needledf = needledf[(needledf.REASON =='Needle Program')]\n",
    "\n",
    "##### make CSVs\n",
    "\n",
    "needledf['time'] = pd.to_datetime(needledf.open_dt)\n",
    "\n",
    "needledf['date'] = needledf['time'].dt.date\n",
    "needledf['yr.mnth'] = needledf['time'].apply(lambda x: x.strftime('%Y.%m')) \n",
    "needledf['YEAR'] = needledf['time'].apply(lambda x: int(x.strftime('%Y')))\n",
    "needledf['MONTH'] = needledf['time'].apply(lambda x: int(x.strftime('%m')))\n",
    "\n",
    "\n",
    "\n",
    "needledf['first_or_second_half_of_year'] =  needledf['MONTH'].apply(lambda x: 1  if x<7 else 2)\n",
    "needledf['MONTH'] = needledf['MONTH'].apply(lambda x: str(x))\n",
    "needledf['YEAR'] = needledf['YEAR'].apply(lambda x: str(x))\n",
    "needledf['first_or_second_half_of_year'] = needledf['first_or_second_half_of_year'].apply(lambda x: str(x))\n",
    "needledf['first_or_second_half_of_year'] = needledf['YEAR'] + '.'+needledf['first_or_second_half_of_year']\n",
    "\n",
    "\n",
    "#year\n",
    "CSVofneedledfByYear = needledf.groupby('YEAR').count()['MONTH'].to_frame().reset_index().rename(index=str, columns={\"MONTH\": 'NumbNeedleReports'})\n",
    "CSVofneedledfByYear.to_csv( '~/Downloads/crime/CSVofneedledfByYear.csv')\n",
    "\n",
    "#half year\n",
    "CSVofneedledfByHalfYear = needledf.groupby('first_or_second_half_of_year').count()['YEAR'].to_frame().reset_index().rename(index=str, columns={\"YEAR\": 'NumbNeedleReports'})\n",
    "CSVofneedledfByHalfYear.to_csv( '~/Downloads/crime/CSVofneedledfByHalfYear.csv')\n",
    "\n",
    "#month & Year\n",
    "CSVofneedledfByyearandmonth = needledf.groupby('yr.mnth').count()['YEAR'].to_frame().reset_index().rename(index=str, columns={\"YEAR\": 'NumbNeedleReports', 'yr.mnth': 'datebymonth'})\n",
    "CSVofneedledfByyearandmonth.to_csv( '~/Downloads/crime/CSVofneedledfByyearandmonth.csv')\n",
    "\n",
    "#just month no year\n",
    "CSVofneedledfBymonth =needledf.groupby('MONTH').count()['YEAR'].to_frame().reset_index().rename(index=str, columns={\"YEAR\": 'NumbNeedleReports', 'MONTH': 'month'})\n",
    "CSVofneedledfBymonth.to_csv( '~/Downloads/crime/CSVofneedledfBymonth.csv')\n",
    "\n"
   ]
  },
  {
   "cell_type": "code",
   "execution_count": 221,
   "metadata": {},
   "outputs": [],
   "source": [
    "## make a weed DF\n",
    "\n",
    "\n",
    "# class D drugs =  pot\n",
    "## 1863\tDRUGS - POSS CLASS D - MARIJUANA, ETC.\n",
    "# 1845\tDRUGS - POSS CLASS D\n",
    "# 1848\tDRUGS - POSS CLASS D - INTENT TO MFR DIST DISP\n",
    "#1807 DRUGS - CLASS D TRAFFICKING OVER 50 GRAMS\n",
    "#1864 DRUGS - POSS CLASS D - INTENT MFR DIST DISP\n",
    "weedDF = df15[(df15.OFFENSE_CODE == 1863 ) | (df15.OFFENSE_CODE == 1845 ) | (df15.OFFENSE_CODE == 1848 ) | \n",
    "     (df15.OFFENSE_CODE == 1807 ) | (df15.OFFENSE_CODE == 1864 )]\n",
    "\n",
    "weedDF['crime'] = 'weed'\n",
    "### 1840 -- DRUGS - TRAFFICKING IN HEROIN 3021 = Sick Assist heroin, DID NOT HAVE ANY VALUES\n",
    "\n",
    "\n",
    "##### make CSVs\n",
    "\n",
    "#year\n",
    "CSVofWeedByYear = weedDF.groupby('YEAR').count()['MONTH'].to_frame().reset_index().rename(index=str, columns={\"MONTH\": 'WeedCrimes'})\n",
    "CSVofWeedByYear.to_csv( '~/Downloads/crime/CSVofWeedByYear.csv')\n",
    "\n",
    "#half year\n",
    "CSVofWeedByHalfYear = weedDF.groupby('first_or_second_half_of_year').count()['YEAR'].to_frame().reset_index().rename(index=str, columns={\"YEAR\": 'WeedCrimes'})\n",
    "CSVofWeedByHalfYear.to_csv( '~/Downloads/crime/CSVofWeedByHalfYear.csv')\n",
    "\n",
    "#month & Year\n",
    "CSVofWeedByyearandmonth = weedDF.groupby('date').count()['YEAR'].to_frame().reset_index().rename(index=str, columns={\"YEAR\": 'WeedCrimes', 'date': 'datebymonth'})\n",
    "CSVofWeedByyearandmonth.to_csv( '~/Downloads/crime/CSVofWeedByyearandmonth.csv')\n",
    "\n",
    "#just month no year\n",
    "CSVofWeedBymonth =weedDF.groupby('MONTH').count()['YEAR'].to_frame().reset_index().rename(index=str, columns={\"YEAR\": 'WeedCrimes', 'MONTH': 'month'})\n",
    "CSVofWeedBymonth.to_csv( '~/Downloads/crime/CSVofWeedBymonth.csv')\n",
    "\n",
    "#HOUR\n",
    "CSVofWeedByhour = weedDF.groupby('HOUR').count()['YEAR'].to_frame().reset_index().rename(index=str, columns={\"YEAR\": 'WeedCrimes', 'HOUR': 'hourofday'})\n",
    "CSVofWeedByhour.to_csv( '~/Downloads/crime/CSVofWeedByhour.csv')\n",
    "\n",
    "#day_of_week\n",
    "CSVofWeedDAY_OF_WEEK = weedDF.groupby('DAY_OF_WEEK').count()['YEAR'].to_frame().reset_index().rename(index=str, columns={\"YEAR\": 'WeedCrimes', 'DAY_OF_WEEK': 'DAY_OF_WEEK'})\n",
    "CSVofWeedDAY_OF_WEEK.to_csv( '~/Downloads/crime/CSVofWeedDAY_OF_WEEK.csv')\n",
    "\n",
    "## all \n",
    "weedDF.to_csv( '~/Downloads/crime/Entire_CSVofWeed_for_map.csv')\n"
   ]
  },
  {
   "cell_type": "code",
   "execution_count": 222,
   "metadata": {},
   "outputs": [
    {
     "name": "stdout",
     "output_type": "stream",
     "text": [
      "done\n"
     ]
    }
   ],
   "source": [
    "print('done')"
   ]
  },
  {
   "cell_type": "code",
   "execution_count": null,
   "metadata": {},
   "outputs": [],
   "source": []
  },
  {
   "cell_type": "code",
   "execution_count": null,
   "metadata": {},
   "outputs": [],
   "source": []
  },
  {
   "cell_type": "code",
   "execution_count": null,
   "metadata": {},
   "outputs": [],
   "source": []
  },
  {
   "cell_type": "code",
   "execution_count": null,
   "metadata": {},
   "outputs": [],
   "source": []
  }
 ],
 "metadata": {
  "kernelspec": {
   "display_name": "Python 3",
   "language": "python",
   "name": "python3"
  },
  "language_info": {
   "codemirror_mode": {
    "name": "ipython",
    "version": 3
   },
   "file_extension": ".py",
   "mimetype": "text/x-python",
   "name": "python",
   "nbconvert_exporter": "python",
   "pygments_lexer": "ipython3",
   "version": "3.6.5"
  }
 },
 "nbformat": 4,
 "nbformat_minor": 2
}
