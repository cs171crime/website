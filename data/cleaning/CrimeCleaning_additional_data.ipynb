{
 "cells": [
  {
   "cell_type": "code",
   "execution_count": 1,
   "metadata": {},
   "outputs": [],
   "source": [
    "import pandas as pd\n",
    "import matplotlib.pyplot as plt\n",
    "import seaborn as sns\n",
    "import numpy as np\n",
    "import warnings\n",
    "warnings.filterwarnings('ignore')\n",
    "df15 = pd.read_csv('/Users/kimia/Downloads/crime.csv', encoding = \"ISO-8859-1\")"
   ]
  },
  {
   "cell_type": "code",
   "execution_count": 7,
   "metadata": {},
   "outputs": [],
   "source": [
    "pd.set_option('display.max_rows', 500)\n",
    "pd.set_option('display.max_columns', 500)\n",
    "pd.set_option('display.width', 1000)"
   ]
  },
  {
   "cell_type": "code",
   "execution_count": 8,
   "metadata": {},
   "outputs": [],
   "source": [
    "## year.month \n",
    "df15['new_date'] = df15[('MONTH')]\n",
    "df15['new_date'] = df15['new_date'].apply(lambda x: '0'+str(x)  if x<10 else x) ## so that Nov (.11) is not < .9 (Sept)\n",
    "df15['new_date'] = df15['new_date'].apply(lambda x: str(x))\n",
    "df15['year'] = df15['YEAR'].apply(lambda x: str(x))\n",
    "df15['date'] = df15['year'] + '.'+ df15['new_date']\n",
    "df15['first_or_second_half_of_year'] =  df15['MONTH'].apply(lambda x: 1  if x<7 else 2)\n",
    "df15['first_or_second_half_of_year'] = df15['first_or_second_half_of_year'].apply(lambda x: str(x))\n",
    "df15['first_or_second_half_of_year'] = df15['year'] + '.'+df15['first_or_second_half_of_year']"
   ]
  },
  {
   "cell_type": "code",
   "execution_count": 9,
   "metadata": {},
   "outputs": [],
   "source": [
    "import re \n"
   ]
  },
  {
   "cell_type": "code",
   "execution_count": 2,
   "metadata": {},
   "outputs": [],
   "source": [
    "## Needles\n",
    "needledf = pd.read_csv('/Users/kimia/Downloads/311.csv', encoding = \"ISO-8859-1\")\n",
    "needledf = needledf[(needledf.REASON =='Needle Program')]\n",
    "\n"
   ]
  },
  {
   "cell_type": "code",
   "execution_count": 11,
   "metadata": {},
   "outputs": [],
   "source": [
    "hoods = needledf[['police_district', 'neighborhood']]\n",
    "hoods['DISTRICT'] = hoods.police_district"
   ]
  },
  {
   "cell_type": "code",
   "execution_count": 12,
   "metadata": {},
   "outputs": [],
   "source": [
    "heroinDF = df15[(df15.OFFENSE_CODE == 1842 ) | (df15.OFFENSE_CODE == 1830 ) | \n",
    "     (df15.OFFENSE_CODE == 1843 )  ]\n",
    "\n",
    "heroinDF['crime'] = \"Heroin\"\n",
    "heroinDF = pd.merge(hoods, heroinDF, on = 'DISTRICT')\n",
    "### 1840 -- DRUGS - TRAFFICKING IN HEROIN 3021 = Sick As"
   ]
  },
  {
   "cell_type": "code",
   "execution_count": 13,
   "metadata": {},
   "outputs": [],
   "source": [
    "CSVofHeroinByYear = heroinDF.groupby('neighborhood').count()['INCIDENT_NUMBER'].to_frame().reset_index().rename(index=str, columns={\"INCIDENT_NUMBER\": 'HeroinCrimes'})\n",
    "CSVofHeroinByYear.to_csv( '~/Downloads/crime/FINALheroinbyhood.csv')"
   ]
  },
  {
   "cell_type": "code",
   "execution_count": null,
   "metadata": {},
   "outputs": [],
   "source": [
    "CSVofHeroinByYear\n"
   ]
  },
  {
   "cell_type": "code",
   "execution_count": 14,
   "metadata": {},
   "outputs": [],
   "source": [
    "## make a Heroin DF\n",
    "\n",
    "## 1830, 3021 = Sick Assist heroin, 1842 == DRUGS - POSS CLASS A - HEROIN, ETC. - 1843: DRUGS - PRESENT AT HEROIN \n",
    "heroinDF = df15[(df15.OFFENSE_CODE == 1842 ) | (df15.OFFENSE_CODE == 1830 ) | \n",
    "     (df15.OFFENSE_CODE == 1843 )  ]\n",
    "\n",
    "heroinDF['crime'] = \"Heroin\"\n",
    "heorinDF = pd.merge(hoods, heroinDF, on = 'DISTRICT')\n",
    "### 1840 -- DRUGS - TRAFFICKING IN HEROIN 3021 = Sick Assist heroin, DID NOT HAVE ANY VALUES\n"
   ]
  },
  {
   "cell_type": "code",
   "execution_count": 16,
   "metadata": {},
   "outputs": [],
   "source": [
    "## make a weed DF\n",
    "\n",
    "\n",
    "# class D drugs =  pot\n",
    "## 1863\tDRUGS - POSS CLASS D - MARIJUANA, ETC.\n",
    "# 1845\tDRUGS - POSS CLASS D\n",
    "# 1848\tDRUGS - POSS CLASS D - INTENT TO MFR DIST DISP\n",
    "#1807 DRUGS - CLASS D TRAFFICKING OVER 50 GRAMS\n",
    "#1864 DRUGS - POSS CLASS D - INTENT MFR DIST DISP\n",
    "weedDF = df15[(df15.OFFENSE_CODE == 1863 ) | (df15.OFFENSE_CODE == 1845 ) | (df15.OFFENSE_CODE == 1848 ) | \n",
    "     (df15.OFFENSE_CODE == 1807 ) | (df15.OFFENSE_CODE == 1864 )]\n",
    "\n",
    "weedDF['crime'] = 'weed'\n",
    "weedDF = pd.merge(hoods, weedDF, on = 'DISTRICT')\n",
    "### 1840 -- DRUGS - TRAFFICKING IN HEROIN 3021 = Sick Assist heroin, DID NOT HAVE ANY VALUES\n",
    "\n",
    "\n",
    "\n"
   ]
  },
  {
   "cell_type": "code",
   "execution_count": 20,
   "metadata": {},
   "outputs": [],
   "source": [
    "CSVofWeedByYear = weedDF.groupby('neighborhood').count()['INCIDENT_NUMBER'].to_frame().reset_index().rename(index=str, columns={\"INCIDENT_NUMBER\": 'Marijuana'})\n"
   ]
  },
  {
   "cell_type": "code",
   "execution_count": 23,
   "metadata": {},
   "outputs": [],
   "source": [
    "new = pd.merge(CSVofWeedByYear, CSVofHeroinByYear, on= 'neighborhood')\n",
    "new.to_csv('hoods.csv')"
   ]
  },
  {
   "cell_type": "code",
   "execution_count": null,
   "metadata": {},
   "outputs": [],
   "source": [
    "CSVofWeedByYear = weedDF.groupby('neighborhood').count()['INCIDENT_NUMBER'].to_frame().reset_index().rename(index=str, columns={\"INCIDENT_NUMBER\": 'HeroinCrimes'})\n",
    "pd.merge(CSVofHeroinByYear, "
   ]
  },
  {
   "cell_type": "code",
   "execution_count": null,
   "metadata": {},
   "outputs": [],
   "source": [
    "CSVofHeroinByYear.to_csv( '~/Downloads/crime/FINALheroinbyhood.csv')"
   ]
  },
  {
   "cell_type": "code",
   "execution_count": 34,
   "metadata": {},
   "outputs": [],
   "source": [
    "(weedDF.Location).to_frame().reset_index().Location.to_frame().to_csv('testingFandK.csv')"
   ]
  },
  {
   "cell_type": "code",
   "execution_count": 8,
   "metadata": {},
   "outputs": [],
   "source": [
    "needledf['weekday'] = pd.to_datetime(needledf['open_dt'])\n",
    "needledf['weekday'] = needledf['weekday'].dt.dayofweek"
   ]
  },
  {
   "cell_type": "code",
   "execution_count": 12,
   "metadata": {},
   "outputs": [],
   "source": [
    "needDF = needledf.groupby('weekday').count()['CASE_ENQUIRY_ID'].to_frame().reset_index().rename(index=str, columns={\"CASE_ENQUIRY_ID\": 'reported_needles'})\n"
   ]
  },
  {
   "cell_type": "code",
   "execution_count": 13,
   "metadata": {},
   "outputs": [],
   "source": [
    "needDF.to_csv(\"needDF_day_of_week.csv\")"
   ]
  },
  {
   "cell_type": "code",
   "execution_count": null,
   "metadata": {},
   "outputs": [],
   "source": []
  },
  {
   "cell_type": "code",
   "execution_count": null,
   "metadata": {},
   "outputs": [],
   "source": []
  }
 ],
 "metadata": {
  "kernelspec": {
   "display_name": "Python 3",
   "language": "python",
   "name": "python3"
  },
  "language_info": {
   "codemirror_mode": {
    "name": "ipython",
    "version": 3
   },
   "file_extension": ".py",
   "mimetype": "text/x-python",
   "name": "python",
   "nbconvert_exporter": "python",
   "pygments_lexer": "ipython3",
   "version": "3.6.5"
  }
 },
 "nbformat": 4,
 "nbformat_minor": 2
}
